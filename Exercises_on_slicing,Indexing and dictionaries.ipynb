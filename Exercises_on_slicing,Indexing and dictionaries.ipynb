{
 "cells": [
  {
   "cell_type": "markdown",
   "metadata": {},
   "source": []
  },
  {
   "cell_type": "markdown",
   "metadata": {},
   "source": [
    "1.Write a program that evaluates the function:\n",
    "y = x2-1\n",
    "at a single point. The program should request a value of x from the screen, print out the\n",
    "equivalent value of y and stop."
   ]
  },
  {
   "cell_type": "code",
   "execution_count": 1,
   "metadata": {},
   "outputs": [
    {
     "name": "stdout",
     "output_type": "stream",
     "text": [
      "input a number3\n"
     ]
    },
    {
     "data": {
      "text/plain": [
       "8.0"
      ]
     },
     "execution_count": 1,
     "metadata": {},
     "output_type": "execute_result"
    }
   ],
   "source": [
    "x=float(input(\"input a number\"))\n",
    "y=x**2-1\n",
    "y\n"
   ]
  },
  {
   "cell_type": "markdown",
   "metadata": {},
   "source": [
    "2.Modify your program so that it will evaluate any quadratic: y =ax2 + bx + c\n",
    "You will need to ask for the coefficients from the screen.\n",
    "Model solution is in file: Exercise5.2.py\n",
    "Enter the coefficients used in the previous example: a=1, b=0, c=-1 and check that you get\n",
    "the same answer using both programs."
   ]
  },
  {
   "cell_type": "code",
   "execution_count": 2,
   "metadata": {},
   "outputs": [
    {
     "name": "stdout",
     "output_type": "stream",
     "text": [
      "input coefficient a number1\n",
      "input coefficient b number0\n",
      "input coefficient c number-1\n",
      "input coefficient x number3\n"
     ]
    },
    {
     "data": {
      "text/plain": [
       "8.0"
      ]
     },
     "execution_count": 2,
     "metadata": {},
     "output_type": "execute_result"
    }
   ],
   "source": [
    "a=float(input(\"input coefficient a number\"))\n",
    "b=float(input(\"input coefficient b number\"))\n",
    "c=float(input(\"input coefficient c number\"))\n",
    "x=float(input(\"input coefficient x number\"))\n",
    "d=a*x**2+b*x+c\n",
    "d"
   ]
  },
  {
   "cell_type": "markdown",
   "metadata": {},
   "source": [
    "6.1 ######LIST######"
   ]
  },
  {
   "cell_type": "markdown",
   "metadata": {},
   "source": [
    "Write a small database and some code to query it using lists.\n",
    "Create a list with the names of 10 ‘friends’. Create a second matching list with their years of\n",
    "birth. Ask the user to input a name. Tell him the place (index) of that person in the list, how\n",
    "many friends he has in total and the year of birth of the person. The input and output should\n",
    "look like this:\n",
    "Enter a name: Will\n",
    "You have 10 friends\n",
    "Will is number 8 in your list\n",
    "Will was born in 1991"
   ]
  },
  {
   "cell_type": "markdown",
   "metadata": {},
   "source": []
  },
  {
   "cell_type": "code",
   "execution_count": 3,
   "metadata": {},
   "outputs": [
    {
     "name": "stdout",
     "output_type": "stream",
     "text": [
      "Enter your friends name:will\n",
      "you have 10 friends\n",
      "will is number 8 in your list\n",
      "will was born in 1991\n"
     ]
    }
   ],
   "source": [
    "names=[\"ram\",\"raj\",\"ravi\",\"rahul\",\"rahim\",\"raju\",\"rakesh\",\"ramesh\",\"will\",\"ranbir\"]\n",
    "year=[91,92,93,94,95,96,97,98,1991,92,95]\n",
    "name=input(\"Enter your friends name:\")\n",
    "print(\"you have\",len(names),\"friends\")\n",
    "index=names.index(name)\n",
    "print(name,\"is number\",index, \"in your list\")\n",
    "print(name, \"was born in\",year[index])\n"
   ]
  },
  {
   "cell_type": "code",
   "execution_count": null,
   "metadata": {},
   "outputs": [],
   "source": []
  },
  {
   "cell_type": "markdown",
   "metadata": {},
   "source": [
    "# create 3 lists fruits, shop, price\n",
    "# output\n",
    "# if you select a fruit shop name name in which it is available should be displayed with price\n",
    "\n"
   ]
  },
  {
   "cell_type": "code",
   "execution_count": 4,
   "metadata": {},
   "outputs": [
    {
     "name": "stdout",
     "output_type": "stream",
     "text": [
      "enter fruits name:apple\n",
      "you have apple in 2 shop\n",
      "apple the price is 30\n"
     ]
    }
   ],
   "source": [
    "fruits=['apple','banana','mango','pineapple']\n",
    "shop=[2,55,3,65]\n",
    "price=[30,40,50,60]\n",
    "value=input('enter fruits name:')\n",
    "index1=fruits.index(value)\n",
    "index2=shop[index1]\n",
    "index3=price[index1]\n",
    "print('you have',value,'in',index2,'shop')\n",
    "print(value,'the price is',index3)\n"
   ]
  },
  {
   "cell_type": "markdown",
   "metadata": {},
   "source": [
    "# create 4 lists students ,roll,standard,gender\n",
    "# output \n",
    "# if you select student name rollno ,gender and class should appear"
   ]
  },
  {
   "cell_type": "code",
   "execution_count": 5,
   "metadata": {},
   "outputs": [
    {
     "name": "stdout",
     "output_type": "stream",
     "text": [
      "enter student name:rakesh\n",
      "rakesh roll number is 46\n",
      "rakesh studies in 3rd class\n",
      "rakesh gender is male\n"
     ]
    }
   ],
   "source": [
    "student=['rakesh','rajesh','srivani','abhishek','srilatha','ashwini','vikesh','nikhitha']\n",
    "roll=[46,65,12,34,54,64,34,89]\n",
    "standard=['3rd class','4th class','5th class','6th class','7th class','8th class','9th class','10th class']\n",
    "gender=['male','male','female','male','female','female','male','female']\n",
    "pick=input('enter student name:')\n",
    "index1=student.index(pick)\n",
    "index2=roll[index1]\n",
    "index3=standard[index1]\n",
    "index4=gender[index1]\n",
    "print('rakesh roll number is',index2)\n",
    "print(pick,'studies in',index3)\n",
    "print(pick,'gender is',index4)"
   ]
  },
  {
   "cell_type": "code",
   "execution_count": null,
   "metadata": {},
   "outputs": [],
   "source": []
  },
  {
   "cell_type": "markdown",
   "metadata": {},
   "source": [
    "Create a 10x10 matrix of integers starting at 1 and ending at 100 as a NumPy array. The first\n",
    "row is the integers 1 to 10, the second 11 to 20 etc. (Use numpy.arange() and the shape()\n",
    "method). Print the matrix to the screen.\n",
    "Now slice out the column from the matrix where all of the numbers end in the digit 5 (the 5th\n",
    "column). Print this to the screen. It should look like this:\n",
    "\n",
    "[ 5 15 25 35 45 55 65 75 85 95]"
   ]
  },
  {
   "cell_type": "code",
   "execution_count": 8,
   "metadata": {},
   "outputs": [
    {
     "data": {
      "text/plain": [
       "array([[  1,   2,   3,   4,   5,   6,   7,   8,   9,  10],\n",
       "       [ 11,  12,  13,  14,  15,  16,  17,  18,  19,  20],\n",
       "       [ 21,  22,  23,  24,  25,  26,  27,  28,  29,  30],\n",
       "       [ 31,  32,  33,  34,  35,  36,  37,  38,  39,  40],\n",
       "       [ 41,  42,  43,  44,  45,  46,  47,  48,  49,  50],\n",
       "       [ 51,  52,  53,  54,  55,  56,  57,  58,  59,  60],\n",
       "       [ 61,  62,  63,  64,  65,  66,  67,  68,  69,  70],\n",
       "       [ 71,  72,  73,  74,  75,  76,  77,  78,  79,  80],\n",
       "       [ 81,  82,  83,  84,  85,  86,  87,  88,  89,  90],\n",
       "       [ 91,  92,  93,  94,  95,  96,  97,  98,  99, 100]])"
      ]
     },
     "execution_count": 8,
     "metadata": {},
     "output_type": "execute_result"
    }
   ],
   "source": [
    "import numpy as np\n",
    "mydata=np.arange(1,101,1,dtype=\"int\")\n",
    "mydata.shape=(10,10)\n",
    "mydata"
   ]
  },
  {
   "cell_type": "code",
   "execution_count": 9,
   "metadata": {},
   "outputs": [
    {
     "name": "stdout",
     "output_type": "stream",
     "text": [
      "[ 5 15 25 35 45 55 65 75 85 95]\n"
     ]
    }
   ],
   "source": [
    "print(mydata[:,4])"
   ]
  },
  {
   "cell_type": "code",
   "execution_count": 10,
   "metadata": {},
   "outputs": [
    {
     "name": "stdout",
     "output_type": "stream",
     "text": [
      "[51 52 53 54 55 56 57 58 59 60]\n"
     ]
    }
   ],
   "source": [
    "print(mydata[5,:])"
   ]
  },
  {
   "cell_type": "code",
   "execution_count": 11,
   "metadata": {},
   "outputs": [
    {
     "name": "stdout",
     "output_type": "stream",
     "text": [
      "84\n"
     ]
    }
   ],
   "source": [
    "print(mydata[8,3])"
   ]
  },
  {
   "cell_type": "markdown",
   "metadata": {},
   "source": [
    "# Now slice out a sub-matrix from the original matrix to look like this:\n",
    "\n",
    "[[35 36 37 38]\n",
    "[45 46 47 48]\n",
    "[55 56 57 58]]"
   ]
  },
  {
   "cell_type": "code",
   "execution_count": 18,
   "metadata": {},
   "outputs": [
    {
     "name": "stdout",
     "output_type": "stream",
     "text": [
      "[[35 36 37 38]\n",
      " [45 46 47 48]\n",
      " [55 56 57 58]]\n"
     ]
    }
   ],
   "source": [
    "print(mydata[3:6,4:8])"
   ]
  },
  {
   "cell_type": "markdown",
   "metadata": {},
   "source": [
    "# Now convert the sub matrix to a vector to look like:\n",
    "[35 36 37 38 45 46 47 48 55 56 57 58]"
   ]
  },
  {
   "cell_type": "code",
   "execution_count": 20,
   "metadata": {},
   "outputs": [
    {
     "data": {
      "text/plain": [
       "array([35, 36, 37, 38, 45, 46, 47, 48, 55, 56, 57, 58])"
      ]
     },
     "execution_count": 20,
     "metadata": {},
     "output_type": "execute_result"
    }
   ],
   "source": [
    "a=mydata[3:6,4:8]\n",
    "a.flatten()"
   ]
  },
  {
   "cell_type": "code",
   "execution_count": null,
   "metadata": {},
   "outputs": [],
   "source": []
  },
  {
   "cell_type": "markdown",
   "metadata": {},
   "source": [
    "The program for exercise 6.1 would have been better done with a dictionary rather than two\n",
    "lists. Repeat the exercise but using a single dictionary to hold the data. Which of the outputs\n",
    "from example 6.1 cannot be generated from data stored in a dictionary and why? If you enter\n",
    "a friend who is not in the list, the program will crash with a different error to the version that\n",
    "used lists."
   ]
  },
  {
   "cell_type": "code",
   "execution_count": 21,
   "metadata": {},
   "outputs": [
    {
     "name": "stdout",
     "output_type": "stream",
     "text": [
      "enter friend:rakesh\n",
      "rakesh age is 6th sept\n"
     ]
    }
   ],
   "source": [
    "friends={}\n",
    "friends['rakesh']='6th sept'\n",
    "friends['vikesh']='8th dec'\n",
    "friends['rajesh']='24th july'\n",
    "friends['ramesh']='6th may'\n",
    "\n",
    "name=input('enter friend:')\n",
    "print(name, \"age is\",friends[name])\n",
    "\n"
   ]
  },
  {
   "cell_type": "code",
   "execution_count": null,
   "metadata": {},
   "outputs": [],
   "source": []
  }
 ],
 "metadata": {
  "kernelspec": {
   "display_name": "Python 3",
   "language": "python",
   "name": "python3"
  },
  "language_info": {
   "codemirror_mode": {
    "name": "ipython",
    "version": 3
   },
   "file_extension": ".py",
   "mimetype": "text/x-python",
   "name": "python",
   "nbconvert_exporter": "python",
   "pygments_lexer": "ipython3",
   "version": "3.7.3"
  }
 },
 "nbformat": 4,
 "nbformat_minor": 2
}
